{
 "cells": [
  {
   "cell_type": "code",
   "execution_count": 2,
   "metadata": {},
   "outputs": [
    {
     "name": "stdout",
     "output_type": "stream",
     "text": [
      "Python běží!\n"
     ]
    }
   ],
   "source": [
    "print(\"Python běží!\")"
   ]
  },
  {
   "cell_type": "code",
   "execution_count": 3,
   "metadata": {},
   "outputs": [
    {
     "name": "stdout",
     "output_type": "stream",
     "text": [
      "Defaulting to user installation because normal site-packages is not writeable\n",
      "Requirement already satisfied: numpy in /home/pytel/.local/lib/python3.12/site-packages (from -r ./pip-dependencies.txt (line 1)) (2.1.1)\n",
      "Requirement already satisfied: scipy in /home/pytel/.local/lib/python3.12/site-packages (from -r ./pip-dependencies.txt (line 2)) (1.14.1)\n",
      "Requirement already satisfied: PyQt5 in /home/pytel/.local/lib/python3.12/site-packages (from -r ./pip-dependencies.txt (line 3)) (5.15.11)\n",
      "Requirement already satisfied: pillow in /usr/lib/python3/dist-packages (from -r ./pip-dependencies.txt (line 4)) (10.2.0)\n",
      "Requirement already satisfied: pyaudio in /usr/lib/python3/dist-packages (from -r ./pip-dependencies.txt (line 5)) (0.2.13)\n",
      "Requirement already satisfied: matplotlib in /home/pytel/.local/lib/python3.12/site-packages (from -r ./pip-dependencies.txt (line 6)) (3.9.2)\n",
      "Requirement already satisfied: PyQt5-sip<13,>=12.15 in /home/pytel/.local/lib/python3.12/site-packages (from PyQt5->-r ./pip-dependencies.txt (line 3)) (12.15.0)\n",
      "Requirement already satisfied: PyQt5-Qt5<5.16.0,>=5.15.2 in /home/pytel/.local/lib/python3.12/site-packages (from PyQt5->-r ./pip-dependencies.txt (line 3)) (5.15.15)\n",
      "Requirement already satisfied: contourpy>=1.0.1 in /home/pytel/.local/lib/python3.12/site-packages (from matplotlib->-r ./pip-dependencies.txt (line 6)) (1.3.0)\n",
      "Requirement already satisfied: cycler>=0.10 in /home/pytel/.local/lib/python3.12/site-packages (from matplotlib->-r ./pip-dependencies.txt (line 6)) (0.12.1)\n",
      "Requirement already satisfied: fonttools>=4.22.0 in /home/pytel/.local/lib/python3.12/site-packages (from matplotlib->-r ./pip-dependencies.txt (line 6)) (4.53.1)\n",
      "Requirement already satisfied: kiwisolver>=1.3.1 in /home/pytel/.local/lib/python3.12/site-packages (from matplotlib->-r ./pip-dependencies.txt (line 6)) (1.4.7)\n",
      "Requirement already satisfied: packaging>=20.0 in /usr/lib/python3/dist-packages (from matplotlib->-r ./pip-dependencies.txt (line 6)) (24.0)\n",
      "Requirement already satisfied: pyparsing>=2.3.1 in /usr/lib/python3/dist-packages (from matplotlib->-r ./pip-dependencies.txt (line 6)) (3.1.1)\n",
      "Requirement already satisfied: python-dateutil>=2.7 in /usr/lib/python3/dist-packages (from matplotlib->-r ./pip-dependencies.txt (line 6)) (2.8.2)\n"
     ]
    }
   ],
   "source": [
    "import sys\n",
    "\n",
    "#sys.path.append('../')\n",
    "\n",
    "!{sys.executable} -m pip install -r ./pip-dependencies.txt"
   ]
  },
  {
   "cell_type": "code",
   "execution_count": 4,
   "metadata": {},
   "outputs": [],
   "source": [
    "import numpy as np\n",
    "import matplotlib.pyplot as plt\n",
    "import datetime\n",
    "from colors import *"
   ]
  },
  {
   "cell_type": "markdown",
   "metadata": {},
   "source": [
    "# Hrátky se seriovou linkou"
   ]
  },
  {
   "cell_type": "code",
   "execution_count": 7,
   "metadata": {},
   "outputs": [],
   "source": [
    "import serial\n",
    "import serial.tools.list_ports\n",
    "\n",
    "def list_serial_ports():\n",
    "    ports = serial.tools.list_ports.comports()\n",
    "    for port in ports:\n",
    "        print(f\"Port: {port.device}, Description: {port.description}, HWID: {port.hwid}\")\n",
    "\n",
    "def connect_to_serial(port, baudrate=9600, bytesize=serial.EIGHTBITS, parity=serial.PARITY_NONE, stopbits=serial.STOPBITS_ONE, timeout=1):\n",
    "    try:\n",
    "        ser = serial.Serial(\n",
    "            port=port,\n",
    "            baudrate=baudrate,\n",
    "            bytesize=bytesize,\n",
    "            parity=parity,\n",
    "            stopbits=stopbits,\n",
    "            timeout=timeout\n",
    "        )\n",
    "        print(f\"Connected to {port} at {baudrate} baud.\")\n",
    "        return ser\n",
    "    except serial.SerialException as e:\n",
    "        print(f\"Error: {e}\")\n",
    "        return None\n"
   ]
  },
  {
   "cell_type": "code",
   "execution_count": 21,
   "metadata": {},
   "outputs": [
    {
     "name": "stdout",
     "output_type": "stream",
     "text": [
      "Port: /dev/ttyS0, Description: n/a, HWID: n/a\n",
      "Port: /dev/ttyS1, Description: n/a, HWID: n/a\n",
      "Port: /dev/ttyS2, Description: n/a, HWID: n/a\n",
      "Port: /dev/ttyS3, Description: n/a, HWID: n/a\n",
      "Port: /dev/ttyS5, Description: n/a, HWID: n/a\n",
      "Port: /dev/ttyS6, Description: n/a, HWID: n/a\n",
      "Port: /dev/ttyS7, Description: n/a, HWID: n/a\n",
      "Port: /dev/ttyS8, Description: n/a, HWID: n/a\n",
      "Port: /dev/ttyS9, Description: n/a, HWID: n/a\n",
      "Port: /dev/ttyS10, Description: n/a, HWID: n/a\n",
      "Port: /dev/ttyS11, Description: n/a, HWID: n/a\n",
      "Port: /dev/ttyS12, Description: n/a, HWID: n/a\n",
      "Port: /dev/ttyS13, Description: n/a, HWID: n/a\n",
      "Port: /dev/ttyS14, Description: n/a, HWID: n/a\n",
      "Port: /dev/ttyS15, Description: n/a, HWID: n/a\n",
      "Port: /dev/ttyS16, Description: n/a, HWID: n/a\n",
      "Port: /dev/ttyS17, Description: n/a, HWID: n/a\n",
      "Port: /dev/ttyS18, Description: n/a, HWID: n/a\n",
      "Port: /dev/ttyS19, Description: n/a, HWID: n/a\n",
      "Port: /dev/ttyS20, Description: n/a, HWID: n/a\n",
      "Port: /dev/ttyS21, Description: n/a, HWID: n/a\n",
      "Port: /dev/ttyS22, Description: n/a, HWID: n/a\n",
      "Port: /dev/ttyS23, Description: n/a, HWID: n/a\n",
      "Port: /dev/ttyS24, Description: n/a, HWID: n/a\n",
      "Port: /dev/ttyS25, Description: n/a, HWID: n/a\n",
      "Port: /dev/ttyS26, Description: n/a, HWID: n/a\n",
      "Port: /dev/ttyS27, Description: n/a, HWID: n/a\n",
      "Port: /dev/ttyS28, Description: n/a, HWID: n/a\n",
      "Port: /dev/ttyS29, Description: n/a, HWID: n/a\n",
      "Port: /dev/ttyS30, Description: n/a, HWID: n/a\n",
      "Port: /dev/ttyS31, Description: n/a, HWID: n/a\n",
      "Port: /dev/ttyS4, Description: n/a, HWID: n/a\n"
     ]
    }
   ],
   "source": [
    "# List available serial ports\n",
    "list_serial_ports()"
   ]
  },
  {
   "cell_type": "code",
   "execution_count": 22,
   "metadata": {},
   "outputs": [
    {
     "name": "stdout",
     "output_type": "stream",
     "text": [
      "Error: [Errno 2] could not open port /dev/ttyUSB0: [Errno 2] No such file or directory: '/dev/ttyUSB0'\n"
     ]
    }
   ],
   "source": [
    "# Example port (replace with your actual port)\n",
    "port = \"/dev/ttyUSB0\"  # For Linux\n",
    "# port = \"COM3\"  # For Windows\n",
    "\n",
    "# Connect to the serial port\n",
    "ser = connect_to_serial(port, baudrate=9600)\n",
    "\n",
    "if ser:\n",
    "    # Example of reading from the serial port\n",
    "    try:\n",
    "        while True:\n",
    "            if ser.in_waiting > 0:\n",
    "                data = ser.readline().decode('utf-8').rstrip()\n",
    "                print(f\"Received: {data}\")\n",
    "    except KeyboardInterrupt:\n",
    "        print(\"Exiting...\")\n",
    "    finally:\n",
    "        ser.close()\n",
    "        print(\"Serial connection closed.\")"
   ]
  },
  {
   "cell_type": "code",
   "execution_count": 23,
   "metadata": {},
   "outputs": [
    {
     "name": "stdout",
     "output_type": "stream",
     "text": [
      "{'port': '/dev/ttyUSB0', 'baudrate': 9600}\n"
     ]
    }
   ],
   "source": [
    "# uložení dat do souboru\n",
    "import importlib\n",
    "import tools\n",
    "importlib.reload(tools)\n",
    "\n",
    "file_name = \"config.json\"\n",
    "data = {\n",
    "    \"port\": \"/dev/ttyUSB0\",\n",
    "    \"baudrate\": 9600\n",
    "}\n",
    "\n",
    "tools.save_to_json(file_name, data, append=False)\n",
    "\n",
    "data = tools.load_dic_from_file(file_name)\n",
    "print(data)"
   ]
  }
 ],
 "metadata": {
  "kernelspec": {
   "display_name": "Python 3",
   "language": "python",
   "name": "python3"
  },
  "language_info": {
   "codemirror_mode": {
    "name": "ipython",
    "version": 3
   },
   "file_extension": ".py",
   "mimetype": "text/x-python",
   "name": "python",
   "nbconvert_exporter": "python",
   "pygments_lexer": "ipython3",
   "version": "3.12.3"
  }
 },
 "nbformat": 4,
 "nbformat_minor": 2
}
